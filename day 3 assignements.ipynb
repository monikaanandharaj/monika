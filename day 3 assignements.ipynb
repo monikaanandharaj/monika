{
 "cells": [
  {
   "cell_type": "code",
   "execution_count": 1,
   "metadata": {},
   "outputs": [
    {
     "name": "stdout",
     "output_type": "stream",
     "text": [
      "enter the altitude-100\n",
      "land the plan\n"
     ]
    }
   ],
   "source": [
    "altitude=input(\"enter the altitude-\")\n",
    "altitude=int(altitude)\n",
    "if (altitude<1000):\n",
    "    print(\"land the plan\")\n",
    "elif (1000<altitude<5000) :\n",
    "     print(\"come down to 1000\")\n",
    "else :\n",
    "      print(\"go around and try later\")"
   ]
  },
  {
   "cell_type": "code",
   "execution_count": 28,
   "metadata": {},
   "outputs": [
    {
     "name": "stdout",
     "output_type": "stream",
     "text": [
      "enter the number12\n",
      "12 is not a prime number\n"
     ]
    }
   ],
   "source": [
    "num=input(\"enter the number\")\n",
    "num=int(num)\n",
    "for i in range(2,num):\n",
    "        if (num%i)==0:\n",
    "            print(num,\"is not a prime number\")\n",
    "            break\n",
    "        else:\n",
    "           \n",
    "                print(num,\"is a prime number\")\n",
    "   \n"
   ]
  },
  {
   "cell_type": "code",
   "execution_count": null,
   "metadata": {},
   "outputs": [],
   "source": []
  },
  {
   "cell_type": "code",
   "execution_count": null,
   "metadata": {},
   "outputs": [],
   "source": []
  }
 ],
 "metadata": {
  "kernelspec": {
   "display_name": "Python 3",
   "language": "python",
   "name": "python3"
  },
  "language_info": {
   "codemirror_mode": {
    "name": "ipython",
    "version": 3
   },
   "file_extension": ".py",
   "mimetype": "text/x-python",
   "name": "python",
   "nbconvert_exporter": "python",
   "pygments_lexer": "ipython3",
   "version": "3.8.3"
  }
 },
 "nbformat": 4,
 "nbformat_minor": 4
}
